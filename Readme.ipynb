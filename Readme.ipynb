{
  "nbformat": 4,
  "nbformat_minor": 0,
  "metadata": {
    "accelerator": "GPU",
    "colab": {
      "name": "Readme.ipynb",
      "provenance": [],
      "collapsed_sections": [
        "az-gNnUCz3ho"
      ]
    },
    "kernelspec": {
      "display_name": "Python 3",
      "language": "python",
      "name": "python3"
    },
    "language_info": {
      "codemirror_mode": {
        "name": "ipython",
        "version": 3
      },
      "file_extension": ".py",
      "mimetype": "text/x-python",
      "name": "python",
      "nbconvert_exporter": "python",
      "pygments_lexer": "ipython3",
      "version": "3.7.4"
    }
  },
  "cells": [
    {
      "cell_type": "markdown",
      "metadata": {
        "id": "cDDUtGJBs4O1",
        "colab_type": "text"
      },
      "source": [
        "# LeafDoctor\n",
        "LeafDoctor is a deep learning application for detecting plant disease based on leaf images. \n",
        "This repository contains the following notebookes:\n",
        "  1. SVM baseline model: [Baseline](SVM_BaseModel.ipynb)\n",
        "  2. Training the deep learning model: [DeepModel](DeepModel_GPU.ipynb)\n",
        "  3. Prediction phase based on the saved model: [ForInference](DeepModel4inf_GPU.ipynb)"
      ]
    }
  ]
}
